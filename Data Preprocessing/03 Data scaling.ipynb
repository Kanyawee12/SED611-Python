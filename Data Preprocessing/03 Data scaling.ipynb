{
 "cells": [
  {
   "cell_type": "code",
   "execution_count": 1,
   "id": "84fd31df",
   "metadata": {},
   "outputs": [],
   "source": [
    "import pandas as pd\n",
    "import numpy as np\n",
    "import matplotlib.pyplot as plt\n",
    "import seaborn as sns\n",
    "from sklearn.metrics.pairwise import euclidean_distances"
   ]
  },
  {
   "cell_type": "code",
   "execution_count": 2,
   "id": "1e2c2790",
   "metadata": {},
   "outputs": [],
   "source": [
    "from numpy import asarray\n",
    "from sklearn.preprocessing import MinMaxScaler\n",
    "# define data\n",
    "data = asarray([[100, 0.001], [8, 0.02], [50, 0.009], [88, 0.07], [4, 0.1]])"
   ]
  },
  {
   "cell_type": "code",
   "execution_count": 3,
   "id": "f7cf8f89",
   "metadata": {},
   "outputs": [],
   "source": [
    "# Data Normalization"
   ]
  },
  {
   "cell_type": "code",
   "execution_count": 4,
   "id": "1df3a772",
   "metadata": {},
   "outputs": [
    {
     "data": {
      "text/plain": [
       "<matplotlib.collections.PathCollection at 0x1647f9ac130>"
      ]
     },
     "execution_count": 4,
     "metadata": {},
     "output_type": "execute_result"
    },
    {
     "data": {
      "image/png": "[encoded data removed]",
      "text/plain": [
       "<Figure size 432x288 with 1 Axes>"
      ]
     },
     "metadata": {
      "needs_background": "light"
     },
     "output_type": "display_data"
    }
   ],
   "source": [
    "x1 = [i[0] for i in data]\n",
    "y1 = [i[1] for i in data]\n",
    "plt.xlim(0,120) # range 0-100\n",
    "plt.ylim(0,0.2) # range 0-0.01\n",
    "plt.scatter(x1,y1)"
   ]
  },
  {
   "cell_type": "code",
   "execution_count": 5,
   "id": "7018b167",
   "metadata": {},
   "outputs": [],
   "source": [
    "# Normalization from data = asarray([[100, 0.001], [8, 0.02], [50, 0.009], [88, 0.07], [4, 0.1]])"
   ]
  },
  {
   "cell_type": "code",
   "execution_count": 6,
   "id": "dd3e2dd3",
   "metadata": {},
   "outputs": [],
   "source": [
    "# define min max scaler\n",
    "scaler = MinMaxScaler()\n",
    "# transform data\n",
    "scaled = scaler.fit_transform(data)"
   ]
  },
  {
   "cell_type": "code",
   "execution_count": 7,
   "id": "c171cb3d",
   "metadata": {},
   "outputs": [
    {
     "data": {
      "text/plain": [
       "array([[1.        , 0.        ],\n",
       "       [0.04166667, 0.19191919],\n",
       "       [0.47916667, 0.08080808],\n",
       "       [0.875     , 0.6969697 ],\n",
       "       [0.        , 1.        ]])"
      ]
     },
     "execution_count": 7,
     "metadata": {},
     "output_type": "execute_result"
    }
   ],
   "source": [
    "scaled"
   ]
  },
  {
   "cell_type": "code",
   "execution_count": 8,
   "id": "faaa430c",
   "metadata": {},
   "outputs": [
    {
     "data": {
      "text/plain": [
       "<matplotlib.collections.PathCollection at 0x1647faafe20>"
      ]
     },
     "execution_count": 8,
     "metadata": {},
     "output_type": "execute_result"
    },
    {
     "data": {
      "image/png": "[encoded data removed]",
      "text/plain": [
       "<Figure size 432x288 with 1 Axes>"
      ]
     },
     "metadata": {
      "needs_background": "light"
     },
     "output_type": "display_data"
    }
   ],
   "source": [
    "x2 = [i[0] for i in scaled]\n",
    "y2 = [i[1] for i in scaled]\n",
    "plt.scatter(x2,y2)"
   ]
  },
  {
   "cell_type": "code",
   "execution_count": 9,
   "id": "12fa61e2",
   "metadata": {},
   "outputs": [],
   "source": [
    "# Standardization"
   ]
  },
  {
   "cell_type": "code",
   "execution_count": 10,
   "id": "19304d06",
   "metadata": {},
   "outputs": [],
   "source": [
    "# Standardization use sklearn.preprocessin"
   ]
  },
  {
   "cell_type": "code",
   "execution_count": 11,
   "id": "7fda003c",
   "metadata": {},
   "outputs": [],
   "source": [
    "from numpy import asarray\n",
    "from sklearn.preprocessing import StandardScaler\n",
    "# define data\n",
    "data = asarray([[100, 0.001], [8, 0.02], [50, 0.009], [88, 0.07], [4, 0.1]])"
   ]
  },
  {
   "cell_type": "code",
   "execution_count": 12,
   "id": "06474bde",
   "metadata": {},
   "outputs": [
    {
     "data": {
      "text/plain": [
       "<matplotlib.collections.PathCollection at 0x1647fb24fa0>"
      ]
     },
     "execution_count": 12,
     "metadata": {},
     "output_type": "execute_result"
    },
    {
     "data": {
      "image/png": "[encoded data removed]",
      "text/plain": [
       "<Figure size 432x288 with 1 Axes>"
      ]
     },
     "metadata": {
      "needs_background": "light"
     },
     "output_type": "display_data"
    }
   ],
   "source": [
    "x1 = [i[0] for i in data]\n",
    "y1 = [i[1] for i in data]\n",
    "plt.xlim(0,100)\n",
    "plt.ylim(0,100)\n",
    "plt.scatter(x1,y1)"
   ]
  },
  {
   "cell_type": "code",
   "execution_count": 13,
   "id": "8cd7f484",
   "metadata": {},
   "outputs": [],
   "source": [
    "# define standard scaler\n",
    "scaler = StandardScaler()\n",
    "# transform data\n",
    "scaled = scaler.fit_transform(data)"
   ]
  },
  {
   "cell_type": "code",
   "execution_count": 14,
   "id": "61a3a3c0",
   "metadata": {},
   "outputs": [
    {
     "data": {
      "text/plain": [
       "array([[ 1.26398112, -1.01499193],\n",
       "       [-1.06174414, -0.52050868],\n",
       "       [ 0.        , -0.80678846],\n",
       "       [ 0.96062565,  0.78076302],\n",
       "       [-1.16286263,  1.56152604]])"
      ]
     },
     "execution_count": 14,
     "metadata": {},
     "output_type": "execute_result"
    }
   ],
   "source": [
    "scaled"
   ]
  },
  {
   "cell_type": "code",
   "execution_count": 15,
   "id": "40bda035",
   "metadata": {},
   "outputs": [
    {
     "data": {
      "text/plain": [
       "<matplotlib.collections.PathCollection at 0x1647fb80f10>"
      ]
     },
     "execution_count": 15,
     "metadata": {},
     "output_type": "execute_result"
    },
    {
     "data": {
      "image/png": "[encoded data removed]",
      "text/plain": [
       "<Figure size 432x288 with 1 Axes>"
      ]
     },
     "metadata": {
      "needs_background": "light"
     },
     "output_type": "display_data"
    }
   ],
   "source": [
    "x3 = [i[0] for i in scaled]\n",
    "y3 = [i[1] for i in scaled]\n",
    "plt.scatter(x3,y3)"
   ]
  },
  {
   "cell_type": "code",
   "execution_count": 16,
   "id": "7e923533",
   "metadata": {},
   "outputs": [],
   "source": [
    "# Standardization use sklearn"
   ]
  },
  {
   "cell_type": "code",
   "execution_count": 17,
   "id": "e68c8a78",
   "metadata": {},
   "outputs": [],
   "source": [
    "from numpy import asarray\n",
    "from sklearn import preprocessing\n",
    "# define data\n",
    "data = asarray([[100, 0.001], [8, 0.02], [50, 0.009], [88, 0.07], [4, 0.1]])"
   ]
  },
  {
   "cell_type": "code",
   "execution_count": 18,
   "id": "e5726a61",
   "metadata": {},
   "outputs": [
    {
     "data": {
      "text/plain": [
       "<matplotlib.collections.PathCollection at 0x1647faec2e0>"
      ]
     },
     "execution_count": 18,
     "metadata": {},
     "output_type": "execute_result"
    },
    {
     "data": {
      "image/png": "[encoded data removed]",
      "text/plain": [
       "<Figure size 432x288 with 1 Axes>"
      ]
     },
     "metadata": {
      "needs_background": "light"
     },
     "output_type": "display_data"
    }
   ],
   "source": [
    "x1 = [i[0] for i in data]\n",
    "y1 = [i[1] for i in data]\n",
    "plt.xlim(0,100)\n",
    "plt.ylim(0,100)\n",
    "plt.scatter(x1,y1)"
   ]
  },
  {
   "cell_type": "code",
   "execution_count": 19,
   "id": "f582321b",
   "metadata": {},
   "outputs": [],
   "source": [
    "# transform data\n",
    "scaled = preprocessing.scale(data)"
   ]
  },
  {
   "cell_type": "code",
   "execution_count": 20,
   "id": "ed3c0ea3",
   "metadata": {},
   "outputs": [
    {
     "data": {
      "text/plain": [
       "array([[ 1.26398112, -1.01499193],\n",
       "       [-1.06174414, -0.52050868],\n",
       "       [ 0.        , -0.80678846],\n",
       "       [ 0.96062565,  0.78076302],\n",
       "       [-1.16286263,  1.56152604]])"
      ]
     },
     "execution_count": 20,
     "metadata": {},
     "output_type": "execute_result"
    }
   ],
   "source": [
    "scaled"
   ]
  },
  {
   "cell_type": "code",
   "execution_count": 21,
   "id": "04d81956",
   "metadata": {},
   "outputs": [
    {
     "data": {
      "text/plain": [
       "<matplotlib.collections.PathCollection at 0x1647fc3f9a0>"
      ]
     },
     "execution_count": 21,
     "metadata": {},
     "output_type": "execute_result"
    },
    {
     "data": {
      "image/png": "[encoded data removed]",
      "text/plain": [
       "<Figure size 432x288 with 1 Axes>"
      ]
     },
     "metadata": {
      "needs_background": "light"
     },
     "output_type": "display_data"
    }
   ],
   "source": [
    "x4 = [i[0] for i in scaled]\n",
    "y4 = [i[1] for i in scaled]\n",
    "plt.scatter(x4,y4)"
   ]
  },
  {
   "cell_type": "code",
   "execution_count": 22,
   "id": "6565eda7",
   "metadata": {},
   "outputs": [],
   "source": [
    "df = pd.DataFrame(scaled)"
   ]
  },
  {
   "cell_type": "code",
   "execution_count": 23,
   "id": "fe5261d1",
   "metadata": {},
   "outputs": [
    {
     "data": {
      "text/html": [
       "<div>\n",
       "<style scoped>\n",
       "    .dataframe tbody tr th:only-of-type {\n",
       "        vertical-align: middle;\n",
       "    }\n",
       "\n",
       "    .dataframe tbody tr th {\n",
       "        vertical-align: top;\n",
       "    }\n",
       "\n",
       "    .dataframe thead th {\n",
       "        text-align: right;\n",
       "    }\n",
       "</style>\n",
       "<table border=\"1\" class=\"dataframe\">\n",
       "  <thead>\n",
       "    <tr style=\"text-align: right;\">\n",
       "      <th></th>\n",
       "      <th>0</th>\n",
       "      <th>1</th>\n",
       "    </tr>\n",
       "  </thead>\n",
       "  <tbody>\n",
       "    <tr>\n",
       "      <th>0</th>\n",
       "      <td>1.263981</td>\n",
       "      <td>-1.014992</td>\n",
       "    </tr>\n",
       "    <tr>\n",
       "      <th>1</th>\n",
       "      <td>-1.061744</td>\n",
       "      <td>-0.520509</td>\n",
       "    </tr>\n",
       "    <tr>\n",
       "      <th>2</th>\n",
       "      <td>0.000000</td>\n",
       "      <td>-0.806788</td>\n",
       "    </tr>\n",
       "    <tr>\n",
       "      <th>3</th>\n",
       "      <td>0.960626</td>\n",
       "      <td>0.780763</td>\n",
       "    </tr>\n",
       "    <tr>\n",
       "      <th>4</th>\n",
       "      <td>-1.162863</td>\n",
       "      <td>1.561526</td>\n",
       "    </tr>\n",
       "  </tbody>\n",
       "</table>\n",
       "</div>"
      ],
      "text/plain": [
       "          0         1\n",
       "0  1.263981 -1.014992\n",
       "1 -1.061744 -0.520509\n",
       "2  0.000000 -0.806788\n",
       "3  0.960626  0.780763\n",
       "4 -1.162863  1.561526"
      ]
     },
     "execution_count": 23,
     "metadata": {},
     "output_type": "execute_result"
    }
   ],
   "source": [
    "df"
   ]
  },
  {
   "cell_type": "code",
   "execution_count": 24,
   "id": "d173a60b",
   "metadata": {},
   "outputs": [
    {
     "data": {
      "text/html": [
       "<div>\n",
       "<style scoped>\n",
       "    .dataframe tbody tr th:only-of-type {\n",
       "        vertical-align: middle;\n",
       "    }\n",
       "\n",
       "    .dataframe tbody tr th {\n",
       "        vertical-align: top;\n",
       "    }\n",
       "\n",
       "    .dataframe thead th {\n",
       "        text-align: right;\n",
       "    }\n",
       "</style>\n",
       "<table border=\"1\" class=\"dataframe\">\n",
       "  <thead>\n",
       "    <tr style=\"text-align: right;\">\n",
       "      <th></th>\n",
       "      <th>0</th>\n",
       "      <th>1</th>\n",
       "    </tr>\n",
       "  </thead>\n",
       "  <tbody>\n",
       "    <tr>\n",
       "      <th>count</th>\n",
       "      <td>5.000000e+00</td>\n",
       "      <td>5.000000</td>\n",
       "    </tr>\n",
       "    <tr>\n",
       "      <th>mean</th>\n",
       "      <td>4.440892e-17</td>\n",
       "      <td>0.000000</td>\n",
       "    </tr>\n",
       "    <tr>\n",
       "      <th>std</th>\n",
       "      <td>1.118034e+00</td>\n",
       "      <td>1.118034</td>\n",
       "    </tr>\n",
       "    <tr>\n",
       "      <th>min</th>\n",
       "      <td>-1.162863e+00</td>\n",
       "      <td>-1.014992</td>\n",
       "    </tr>\n",
       "    <tr>\n",
       "      <th>25%</th>\n",
       "      <td>-1.061744e+00</td>\n",
       "      <td>-0.806788</td>\n",
       "    </tr>\n",
       "    <tr>\n",
       "      <th>50%</th>\n",
       "      <td>0.000000e+00</td>\n",
       "      <td>-0.520509</td>\n",
       "    </tr>\n",
       "    <tr>\n",
       "      <th>75%</th>\n",
       "      <td>9.606256e-01</td>\n",
       "      <td>0.780763</td>\n",
       "    </tr>\n",
       "    <tr>\n",
       "      <th>max</th>\n",
       "      <td>1.263981e+00</td>\n",
       "      <td>1.561526</td>\n",
       "    </tr>\n",
       "  </tbody>\n",
       "</table>\n",
       "</div>"
      ],
      "text/plain": [
       "                  0         1\n",
       "count  5.000000e+00  5.000000\n",
       "mean   4.440892e-17  0.000000\n",
       "std    1.118034e+00  1.118034\n",
       "min   -1.162863e+00 -1.014992\n",
       "25%   -1.061744e+00 -0.806788\n",
       "50%    0.000000e+00 -0.520509\n",
       "75%    9.606256e-01  0.780763\n",
       "max    1.263981e+00  1.561526"
      ]
     },
     "execution_count": 24,
     "metadata": {},
     "output_type": "execute_result"
    }
   ],
   "source": [
    "df.describe()"
   ]
  },
  {
   "cell_type": "code",
   "execution_count": null,
   "id": "88f681d0",
   "metadata": {},
   "outputs": [],
   "source": []
  }
 ],
 "metadata": {
  "kernelspec": {
   "display_name": "Python 3 (ipykernel)",
   "language": "python",
   "name": "python3"
  },
  "language_info": {
   "codemirror_mode": {
    "name": "ipython",
    "version": 3
   },
   "file_extension": ".py",
   "mimetype": "text/x-python",
   "name": "python",
   "nbconvert_exporter": "python",
   "pygments_lexer": "ipython3",
   "version": "3.9.7"
  }
 },
 "nbformat": 4,
 "nbformat_minor": 5
}
