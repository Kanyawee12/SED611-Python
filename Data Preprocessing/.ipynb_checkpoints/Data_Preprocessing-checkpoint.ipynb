{
 "cells": [
  {
   "cell_type": "markdown",
   "id": "3d8a8d7e",
   "metadata": {
    "id": "3d8a8d7e"
   },
   "source": [
    "# 64130701719\n",
    "Kanyawee Sadubjit"
   ]
  },
  {
   "cell_type": "code",
   "execution_count": 1,
   "id": "f0c0f39c",
   "metadata": {
    "id": "f0c0f39c"
   },
   "outputs": [],
   "source": [
    "import pandas as pd\n",
    "import numpy as np\n",
    "import matplotlib.pyplot as plt\n",
    "import seaborn as sns\n",
    "from sklearn.metrics.pairwise import euclidean_distances"
   ]
  },
  {
   "cell_type": "code",
   "execution_count": 2,
   "id": "5f07b3b1",
   "metadata": {
    "id": "5f07b3b1"
   },
   "outputs": [],
   "source": [
    "df = pd.read_excel('hw.xlsx', sheet_name='Sheet1')"
   ]
  },
  {
   "cell_type": "code",
   "execution_count": 3,
   "id": "a7de608b",
   "metadata": {
    "colab": {
     "base_uri": "https://localhost:8080/"
    },
    "id": "a7de608b",
    "outputId": "7d1c4bdf-ff1c-495b-e952-3338fc883826"
   },
   "outputs": [
    {
     "name": "stdout",
     "output_type": "stream",
     "text": [
      "<class 'pandas.core.frame.DataFrame'>\n",
      "RangeIndex: 100 entries, 0 to 99\n",
      "Data columns (total 5 columns):\n",
      " #   Column  Non-Null Count  Dtype  \n",
      "---  ------  --------------  -----  \n",
      " 0   ID      100 non-null    int64  \n",
      " 1   Name    100 non-null    object \n",
      " 2   Age     98 non-null     float64\n",
      " 3   City    97 non-null     object \n",
      " 4   Salary  98 non-null     float64\n",
      "dtypes: float64(2), int64(1), object(2)\n",
      "memory usage: 4.0+ KB\n"
     ]
    }
   ],
   "source": [
    "df.info()"
   ]
  },
  {
   "cell_type": "markdown",
   "id": "qOgaKjH1PkRR",
   "metadata": {
    "id": "qOgaKjH1PkRR"
   },
   "source": [
    "## Missing value"
   ]
  },
  {
   "cell_type": "code",
   "execution_count": 4,
   "id": "88414752",
   "metadata": {
    "colab": {
     "base_uri": "https://localhost:8080/"
    },
    "id": "88414752",
    "outputId": "b6f19254-58e3-4229-e9c5-37c51da1d718"
   },
   "outputs": [
    {
     "data": {
      "text/plain": [
       "ID        0\n",
       "Name      0\n",
       "Age       2\n",
       "City      3\n",
       "Salary    2\n",
       "dtype: int64"
      ]
     },
     "execution_count": 4,
     "metadata": {},
     "output_type": "execute_result"
    }
   ],
   "source": [
    "df.isnull().sum()"
   ]
  },
  {
   "cell_type": "markdown",
   "id": "-WZkD6q-Qimo",
   "metadata": {
    "id": "-WZkD6q-Qimo"
   },
   "source": [
    "Filling with mean that column: Age and Salary \n",
    "Filling the missing data with 'Other' in column: city"
   ]
  },
  {
   "cell_type": "code",
   "execution_count": 5,
   "id": "EhCO8TbFQZbE",
   "metadata": {
    "id": "EhCO8TbFQZbE"
   },
   "outputs": [],
   "source": [
    "df['Age'].mean()\n",
    "df['Age']=df['Age'].fillna(df['Age'].mean())"
   ]
  },
  {
   "cell_type": "code",
   "execution_count": 6,
   "id": "mikambUaSkxm",
   "metadata": {
    "id": "mikambUaSkxm"
   },
   "outputs": [],
   "source": [
    "df['Salary'].mean()\n",
    "df['Salary']=df['Salary'].fillna(df['Salary'].mean())"
   ]
  },
  {
   "cell_type": "code",
   "execution_count": 7,
   "id": "E6HipQx9Szr5",
   "metadata": {
    "id": "E6HipQx9Szr5"
   },
   "outputs": [],
   "source": [
    "df['City'] = df['City'].fillna('Other')"
   ]
  },
  {
   "cell_type": "code",
   "execution_count": 8,
   "id": "9dWK1L9tXOWi",
   "metadata": {
    "colab": {
     "base_uri": "https://localhost:8080/"
    },
    "id": "9dWK1L9tXOWi",
    "outputId": "6f870219-fab0-456c-b14d-a93d4e244ea5"
   },
   "outputs": [
    {
     "data": {
      "text/plain": [
       "ID        0\n",
       "Name      0\n",
       "Age       0\n",
       "City      0\n",
       "Salary    0\n",
       "dtype: int64"
      ]
     },
     "execution_count": 8,
     "metadata": {},
     "output_type": "execute_result"
    }
   ],
   "source": [
    "# Check missing value\n",
    "df.isnull().sum()"
   ]
  },
  {
   "cell_type": "markdown",
   "id": "iS1J8TRrhDoX",
   "metadata": {
    "id": "iS1J8TRrhDoX"
   },
   "source": [
    "### Outliner / Invalid value"
   ]
  },
  {
   "cell_type": "code",
   "execution_count": 9,
   "id": "mNCBqtlUXV3V",
   "metadata": {
    "colab": {
     "base_uri": "https://localhost:8080/",
     "height": 297
    },
    "id": "mNCBqtlUXV3V",
    "outputId": "6efa0474-6eee-43c9-973d-2ee8ea27b2c3"
   },
   "outputs": [
    {
     "data": {
      "text/html": [
       "<div>\n",
       "<style scoped>\n",
       "    .dataframe tbody tr th:only-of-type {\n",
       "        vertical-align: middle;\n",
       "    }\n",
       "\n",
       "    .dataframe tbody tr th {\n",
       "        vertical-align: top;\n",
       "    }\n",
       "\n",
       "    .dataframe thead th {\n",
       "        text-align: right;\n",
       "    }\n",
       "</style>\n",
       "<table border=\"1\" class=\"dataframe\">\n",
       "  <thead>\n",
       "    <tr style=\"text-align: right;\">\n",
       "      <th></th>\n",
       "      <th>ID</th>\n",
       "      <th>Age</th>\n",
       "      <th>Salary</th>\n",
       "    </tr>\n",
       "  </thead>\n",
       "  <tbody>\n",
       "    <tr>\n",
       "      <th>count</th>\n",
       "      <td>100.000000</td>\n",
       "      <td>100.000000</td>\n",
       "      <td>100.000000</td>\n",
       "    </tr>\n",
       "    <tr>\n",
       "      <th>mean</th>\n",
       "      <td>50172.500000</td>\n",
       "      <td>46.040816</td>\n",
       "      <td>47097.704082</td>\n",
       "    </tr>\n",
       "    <tr>\n",
       "      <th>std</th>\n",
       "      <td>87.034476</td>\n",
       "      <td>12.730238</td>\n",
       "      <td>24919.054026</td>\n",
       "    </tr>\n",
       "    <tr>\n",
       "      <th>min</th>\n",
       "      <td>50024.000000</td>\n",
       "      <td>5.000000</td>\n",
       "      <td>3087.000000</td>\n",
       "    </tr>\n",
       "    <tr>\n",
       "      <th>25%</th>\n",
       "      <td>50098.250000</td>\n",
       "      <td>38.750000</td>\n",
       "      <td>32127.250000</td>\n",
       "    </tr>\n",
       "    <tr>\n",
       "      <th>50%</th>\n",
       "      <td>50172.500000</td>\n",
       "      <td>46.000000</td>\n",
       "      <td>43957.500000</td>\n",
       "    </tr>\n",
       "    <tr>\n",
       "      <th>75%</th>\n",
       "      <td>50246.750000</td>\n",
       "      <td>54.000000</td>\n",
       "      <td>60670.500000</td>\n",
       "    </tr>\n",
       "    <tr>\n",
       "      <th>max</th>\n",
       "      <td>50321.000000</td>\n",
       "      <td>113.000000</td>\n",
       "      <td>211710.000000</td>\n",
       "    </tr>\n",
       "  </tbody>\n",
       "</table>\n",
       "</div>"
      ],
      "text/plain": [
       "                 ID         Age         Salary\n",
       "count    100.000000  100.000000     100.000000\n",
       "mean   50172.500000   46.040816   47097.704082\n",
       "std       87.034476   12.730238   24919.054026\n",
       "min    50024.000000    5.000000    3087.000000\n",
       "25%    50098.250000   38.750000   32127.250000\n",
       "50%    50172.500000   46.000000   43957.500000\n",
       "75%    50246.750000   54.000000   60670.500000\n",
       "max    50321.000000  113.000000  211710.000000"
      ]
     },
     "execution_count": 9,
     "metadata": {},
     "output_type": "execute_result"
    }
   ],
   "source": [
    "df.describe()"
   ]
  },
  {
   "cell_type": "code",
   "execution_count": 10,
   "id": "rnvbbxH_nYBk",
   "metadata": {
    "colab": {
     "base_uri": "https://localhost:8080/",
     "height": 350
    },
    "id": "rnvbbxH_nYBk",
    "outputId": "34838721-6f40-4e03-9645-7bdcde8bd811"
   },
   "outputs": [
    {
     "name": "stderr",
     "output_type": "stream",
     "text": [
      "C:\\Users\\Khunkan\\opencv\\lib\\site-packages\\seaborn\\_decorators.py:36: FutureWarning: Pass the following variable as a keyword arg: x. From version 0.12, the only valid positional argument will be `data`, and passing other arguments without an explicit keyword will result in an error or misinterpretation.\n",
      "  warnings.warn(\n"
     ]
    },
    {
     "data": {
      "text/plain": [
       "<AxesSubplot:xlabel='Age'>"
      ]
     },
     "execution_count": 10,
     "metadata": {},
     "output_type": "execute_result"
    },
    {
     "data": {
      "image/png": "[encoded data removed]",
      "text/plain": [
       "<Figure size 432x288 with 1 Axes>"
      ]
     },
     "metadata": {
      "needs_background": "light"
     },
     "output_type": "display_data"
    }
   ],
   "source": [
    "sns.boxplot(df['Age'])"
   ]
  },
  {
   "cell_type": "code",
   "execution_count": 11,
   "id": "5hLgMfTOnWCD",
   "metadata": {
    "colab": {
     "base_uri": "https://localhost:8080/",
     "height": 350
    },
    "id": "5hLgMfTOnWCD",
    "outputId": "81b3d060-8598-44de-f0ba-17c749203f50"
   },
   "outputs": [
    {
     "name": "stderr",
     "output_type": "stream",
     "text": [
      "C:\\Users\\Khunkan\\opencv\\lib\\site-packages\\seaborn\\_decorators.py:36: FutureWarning: Pass the following variable as a keyword arg: x. From version 0.12, the only valid positional argument will be `data`, and passing other arguments without an explicit keyword will result in an error or misinterpretation.\n",
      "  warnings.warn(\n"
     ]
    },
    {
     "data": {
      "text/plain": [
       "<AxesSubplot:xlabel='Salary'>"
      ]
     },
     "execution_count": 11,
     "metadata": {},
     "output_type": "execute_result"
    },
    {
     "data": {
      "image/png": "[encoded data removed]",
      "text/plain": [
       "<Figure size 432x288 with 1 Axes>"
      ]
     },
     "metadata": {
      "needs_background": "light"
     },
     "output_type": "display_data"
    }
   ],
   "source": [
    "sns.boxplot(df['Salary'])"
   ]
  },
  {
   "cell_type": "markdown",
   "id": "F14znMDEhILc",
   "metadata": {
    "id": "F14znMDEhILc"
   },
   "source": [
    "Found that column's age and salary have outlier\n",
    "\n",
    "Use Apply Capping in column's age and salary"
   ]
  },
  {
   "cell_type": "code",
   "execution_count": 12,
   "id": "5bjTuJCrhHgF",
   "metadata": {
    "colab": {
     "base_uri": "https://localhost:8080/"
    },
    "id": "5bjTuJCrhHgF",
    "outputId": "1695d95f-a158-4d9c-f8c7-d59f37120db3"
   },
   "outputs": [
    {
     "data": {
      "text/plain": [
       "15.25"
      ]
     },
     "execution_count": 12,
     "metadata": {},
     "output_type": "execute_result"
    }
   ],
   "source": [
    "# 1. Age\n",
    "q1_age = df['Age'].quantile(0.25)\n",
    "q3_age = df['Age'].quantile(0.75)\n",
    "iqr_age = q3_age - q1_age\n",
    "iqr_age"
   ]
  },
  {
   "cell_type": "code",
   "execution_count": 13,
   "id": "-XeogoTaess-",
   "metadata": {
    "id": "-XeogoTaess-"
   },
   "outputs": [],
   "source": [
    "upper_limit_age = q3_age + 1.5 * iqr_age\n",
    "lower_limit_age = q1_age - 1.5 * iqr_age"
   ]
  },
  {
   "cell_type": "code",
   "execution_count": 14,
   "id": "Bkj6QIVcmkkN",
   "metadata": {
    "id": "Bkj6QIVcmkkN"
   },
   "outputs": [],
   "source": [
    "df['Age'] = np.where(df['Age'] >= upper_limit_age, upper_limit_age, \n",
    "                          np.where(df['Age'] <= lower_limit_age, lower_limit_age,\n",
    "                          df['Age'] ) )"
   ]
  },
  {
   "cell_type": "code",
   "execution_count": 15,
   "id": "gsqGtV4Nm9Kr",
   "metadata": {
    "colab": {
     "base_uri": "https://localhost:8080/"
    },
    "id": "gsqGtV4Nm9Kr",
    "outputId": "61d6263e-095a-4967-cd62-6e6eeeca089e"
   },
   "outputs": [
    {
     "data": {
      "text/plain": [
       "28543.25"
      ]
     },
     "execution_count": 15,
     "metadata": {},
     "output_type": "execute_result"
    }
   ],
   "source": [
    "# 2. Salary\n",
    "q1_sal = df['Salary'].quantile(0.25)\n",
    "q3_sal = df['Salary'].quantile(0.75)\n",
    "iqr_sal = q3_sal - q1_sal\n",
    "iqr_sal"
   ]
  },
  {
   "cell_type": "code",
   "execution_count": 16,
   "id": "dN-4_G6loD8P",
   "metadata": {
    "id": "dN-4_G6loD8P"
   },
   "outputs": [],
   "source": [
    "upper_limit_sal = q3_sal + 1.5 * iqr_sal\n",
    "lower_limit_sal = q1_sal - 1.5 * iqr_sal"
   ]
  },
  {
   "cell_type": "code",
   "execution_count": 17,
   "id": "rOfozR9WoKgr",
   "metadata": {
    "id": "rOfozR9WoKgr"
   },
   "outputs": [],
   "source": [
    "df['Salary'] = np.where(df['Salary'] >= upper_limit_sal, upper_limit_sal, \n",
    "                          np.where(df['Salary'] <= lower_limit_sal, lower_limit_sal,\n",
    "                          df['Salary'] ) )"
   ]
  },
  {
   "cell_type": "code",
   "execution_count": 18,
   "id": "XLSrl90loUqL",
   "metadata": {
    "colab": {
     "base_uri": "https://localhost:8080/",
     "height": 350
    },
    "id": "XLSrl90loUqL",
    "outputId": "8d7d52bb-64e5-4d79-a831-69777d636ee9"
   },
   "outputs": [
    {
     "name": "stderr",
     "output_type": "stream",
     "text": [
      "C:\\Users\\Khunkan\\opencv\\lib\\site-packages\\seaborn\\_decorators.py:36: FutureWarning: Pass the following variable as a keyword arg: x. From version 0.12, the only valid positional argument will be `data`, and passing other arguments without an explicit keyword will result in an error or misinterpretation.\n",
      "  warnings.warn(\n"
     ]
    },
    {
     "data": {
      "text/plain": [
       "<AxesSubplot:xlabel='Age'>"
      ]
     },
     "execution_count": 18,
     "metadata": {},
     "output_type": "execute_result"
    },
    {
     "data": {
      "image/png": "[encoded data removed]",
      "text/plain": [
       "<Figure size 432x288 with 1 Axes>"
      ]
     },
     "metadata": {
      "needs_background": "light"
     },
     "output_type": "display_data"
    }
   ],
   "source": [
    "sns.boxplot(df['Age'])"
   ]
  },
  {
   "cell_type": "code",
   "execution_count": 19,
   "id": "6-JY-nhVoWxT",
   "metadata": {
    "colab": {
     "base_uri": "https://localhost:8080/",
     "height": 350
    },
    "id": "6-JY-nhVoWxT",
    "outputId": "cd00d388-27b2-408e-f22e-fcfd78d0561d"
   },
   "outputs": [
    {
     "name": "stderr",
     "output_type": "stream",
     "text": [
      "C:\\Users\\Khunkan\\opencv\\lib\\site-packages\\seaborn\\_decorators.py:36: FutureWarning: Pass the following variable as a keyword arg: x. From version 0.12, the only valid positional argument will be `data`, and passing other arguments without an explicit keyword will result in an error or misinterpretation.\n",
      "  warnings.warn(\n"
     ]
    },
    {
     "data": {
      "text/plain": [
       "<AxesSubplot:xlabel='Salary'>"
      ]
     },
     "execution_count": 19,
     "metadata": {},
     "output_type": "execute_result"
    },
    {
     "data": {
      "image/png": "[encoded data removed]",
      "text/plain": [
       "<Figure size 432x288 with 1 Axes>"
      ]
     },
     "metadata": {
      "needs_background": "light"
     },
     "output_type": "display_data"
    }
   ],
   "source": [
    "sns.boxplot(df['Salary'])"
   ]
  },
  {
   "cell_type": "markdown",
   "id": "_NmucohVpD3i",
   "metadata": {
    "id": "_NmucohVpD3i"
   },
   "source": [
    "### Data scaling: Data Normalization"
   ]
  },
  {
   "cell_type": "code",
   "execution_count": 20,
   "id": "AbLnLPJdoYw-",
   "metadata": {
    "id": "AbLnLPJdoYw-"
   },
   "outputs": [],
   "source": [
    "df2 = df.copy()"
   ]
  },
  {
   "cell_type": "code",
   "execution_count": 21,
   "id": "oYxOsekRqgug",
   "metadata": {
    "colab": {
     "base_uri": "https://localhost:8080/",
     "height": 282
    },
    "id": "oYxOsekRqgug",
    "outputId": "46bce6b9-6f74-4c53-fe8c-e5a8513ecddd"
   },
   "outputs": [
    {
     "data": {
      "text/plain": [
       "<matplotlib.collections.PathCollection at 0x237e97358b0>"
      ]
     },
     "execution_count": 21,
     "metadata": {},
     "output_type": "execute_result"
    },
    {
     "data": {
      "image/png": "[encoded data removed]",
      "text/plain": [
       "<Figure size 432x288 with 1 Axes>"
      ]
     },
     "metadata": {
      "needs_background": "light"
     },
     "output_type": "display_data"
    }
   ],
   "source": [
    "x1 = [df['Age'] for i in df]\n",
    "y1 = [df['Salary'] for i in df]\n",
    "plt.scatter(x1,y1)"
   ]
  },
  {
   "cell_type": "code",
   "execution_count": 22,
   "id": "BI46zVJIq67U",
   "metadata": {
    "id": "BI46zVJIq67U"
   },
   "outputs": [],
   "source": [
    "from numpy import asarray\n",
    "from sklearn.preprocessing import MinMaxScaler\n",
    "data = df[['Age','Salary']]"
   ]
  },
  {
   "cell_type": "code",
   "execution_count": 23,
   "id": "RHs6l_slsRy4",
   "metadata": {
    "colab": {
     "base_uri": "https://localhost:8080/",
     "height": 419
    },
    "id": "RHs6l_slsRy4",
    "outputId": "55bdb9b0-5c87-4c4a-a60e-3c0565bd729e"
   },
   "outputs": [
    {
     "data": {
      "text/html": [
       "<div>\n",
       "<style scoped>\n",
       "    .dataframe tbody tr th:only-of-type {\n",
       "        vertical-align: middle;\n",
       "    }\n",
       "\n",
       "    .dataframe tbody tr th {\n",
       "        vertical-align: top;\n",
       "    }\n",
       "\n",
       "    .dataframe thead th {\n",
       "        text-align: right;\n",
       "    }\n",
       "</style>\n",
       "<table border=\"1\" class=\"dataframe\">\n",
       "  <thead>\n",
       "    <tr style=\"text-align: right;\">\n",
       "      <th></th>\n",
       "      <th>Age</th>\n",
       "      <th>Salary</th>\n",
       "    </tr>\n",
       "  </thead>\n",
       "  <tbody>\n",
       "    <tr>\n",
       "      <th>0</th>\n",
       "      <td>34.000</td>\n",
       "      <td>25880.000</td>\n",
       "    </tr>\n",
       "    <tr>\n",
       "      <th>1</th>\n",
       "      <td>55.000</td>\n",
       "      <td>41688.000</td>\n",
       "    </tr>\n",
       "    <tr>\n",
       "      <th>2</th>\n",
       "      <td>35.000</td>\n",
       "      <td>22944.000</td>\n",
       "    </tr>\n",
       "    <tr>\n",
       "      <th>3</th>\n",
       "      <td>41.000</td>\n",
       "      <td>21903.000</td>\n",
       "    </tr>\n",
       "    <tr>\n",
       "      <th>4</th>\n",
       "      <td>76.875</td>\n",
       "      <td>57584.000</td>\n",
       "    </tr>\n",
       "    <tr>\n",
       "      <th>...</th>\n",
       "      <td>...</td>\n",
       "      <td>...</td>\n",
       "    </tr>\n",
       "    <tr>\n",
       "      <th>95</th>\n",
       "      <td>46.000</td>\n",
       "      <td>103485.375</td>\n",
       "    </tr>\n",
       "    <tr>\n",
       "      <th>96</th>\n",
       "      <td>15.875</td>\n",
       "      <td>42078.000</td>\n",
       "    </tr>\n",
       "    <tr>\n",
       "      <th>97</th>\n",
       "      <td>38.000</td>\n",
       "      <td>43949.000</td>\n",
       "    </tr>\n",
       "    <tr>\n",
       "      <th>98</th>\n",
       "      <td>32.000</td>\n",
       "      <td>27995.000</td>\n",
       "    </tr>\n",
       "    <tr>\n",
       "      <th>99</th>\n",
       "      <td>40.000</td>\n",
       "      <td>49064.000</td>\n",
       "    </tr>\n",
       "  </tbody>\n",
       "</table>\n",
       "<p>100 rows × 2 columns</p>\n",
       "</div>"
      ],
      "text/plain": [
       "       Age      Salary\n",
       "0   34.000   25880.000\n",
       "1   55.000   41688.000\n",
       "2   35.000   22944.000\n",
       "3   41.000   21903.000\n",
       "4   76.875   57584.000\n",
       "..     ...         ...\n",
       "95  46.000  103485.375\n",
       "96  15.875   42078.000\n",
       "97  38.000   43949.000\n",
       "98  32.000   27995.000\n",
       "99  40.000   49064.000\n",
       "\n",
       "[100 rows x 2 columns]"
      ]
     },
     "execution_count": 23,
     "metadata": {},
     "output_type": "execute_result"
    }
   ],
   "source": [
    "data"
   ]
  },
  {
   "cell_type": "code",
   "execution_count": 24,
   "id": "15YuqmNUqn26",
   "metadata": {
    "id": "15YuqmNUqn26"
   },
   "outputs": [],
   "source": [
    "# define min max scaler\n",
    "scaler = MinMaxScaler()\n",
    "# transform data\n",
    "scaled = scaler.fit_transform(data)"
   ]
  },
  {
   "cell_type": "code",
   "execution_count": 25,
   "id": "s-SGBaSXq13y",
   "metadata": {
    "colab": {
     "base_uri": "https://localhost:8080/",
     "height": 282
    },
    "id": "s-SGBaSXq13y",
    "outputId": "fdad86eb-1382-43b5-da96-86f3be8ea5a7"
   },
   "outputs": [
    {
     "data": {
      "text/plain": [
       "<matplotlib.collections.PathCollection at 0x237e9793670>"
      ]
     },
     "execution_count": 25,
     "metadata": {},
     "output_type": "execute_result"
    },
    {
     "data": {
      "image/png": "[encoded data removed]",
      "text/plain": [
       "<Figure size 432x288 with 1 Axes>"
      ]
     },
     "metadata": {
      "needs_background": "light"
     },
     "output_type": "display_data"
    }
   ],
   "source": [
    "x2 = [i[0] for i in scaled]\n",
    "y2 = [i[1] for i in scaled]\n",
    "plt.scatter(x2,y2)"
   ]
  },
  {
   "cell_type": "markdown",
   "id": "KQsqs1F7uqJJ",
   "metadata": {
    "id": "KQsqs1F7uqJJ"
   },
   "source": [
    "## Convert categorical data\n",
    "Use auto-calculate the number"
   ]
  },
  {
   "cell_type": "code",
   "execution_count": 26,
   "id": "n9MmITaT4zBu",
   "metadata": {
    "id": "n9MmITaT4zBu"
   },
   "outputs": [],
   "source": [
    "df_map = df.copy()"
   ]
  },
  {
   "cell_type": "code",
   "execution_count": 27,
   "id": "cJWaCiQo3Q3M",
   "metadata": {
    "id": "cJWaCiQo3Q3M"
   },
   "outputs": [],
   "source": [
    "labels = df_map['City']\n",
    "map1 = {'City' : {k: v for k,v in zip(labels,list(range(1,len(labels)+1)))}}"
   ]
  },
  {
   "cell_type": "code",
   "execution_count": 28,
   "id": "CTTxL-Su5Sre",
   "metadata": {
    "colab": {
     "base_uri": "https://localhost:8080/"
    },
    "id": "CTTxL-Su5Sre",
    "outputId": "51f1bcb2-d915-40f4-949e-defaa080fcdf"
   },
   "outputs": [
    {
     "data": {
      "text/plain": [
       "{'City': {'Wongar': 84,\n",
       "  'Bilay': 91,\n",
       "  'Kitdagie': 97,\n",
       "  'Chuimarran': 100,\n",
       "  'Amaranga': 92,\n",
       "  'Whiskelmee': 89,\n",
       "  'Winimarrie': 98,\n",
       "  'Tungabiddy': 60,\n",
       "  'Mordego': 96,\n",
       "  'Guiemagerra': 99,\n",
       "  'Other': 83}}"
      ]
     },
     "execution_count": 28,
     "metadata": {},
     "output_type": "execute_result"
    }
   ],
   "source": [
    "map1"
   ]
  },
  {
   "cell_type": "code",
   "execution_count": 29,
   "id": "X4SiF-2t5UPJ",
   "metadata": {
    "id": "X4SiF-2t5UPJ"
   },
   "outputs": [],
   "source": [
    "df_map.replace(map1, inplace=True)"
   ]
  },
  {
   "cell_type": "code",
   "execution_count": 30,
   "id": "zLLaaXM150gW",
   "metadata": {
    "colab": {
     "base_uri": "https://localhost:8080/",
     "height": 419
    },
    "id": "zLLaaXM150gW",
    "outputId": "e735b78c-5a6f-4e7c-ccc3-dbde2e9a288f"
   },
   "outputs": [
    {
     "data": {
      "text/html": [
       "<div>\n",
       "<style scoped>\n",
       "    .dataframe tbody tr th:only-of-type {\n",
       "        vertical-align: middle;\n",
       "    }\n",
       "\n",
       "    .dataframe tbody tr th {\n",
       "        vertical-align: top;\n",
       "    }\n",
       "\n",
       "    .dataframe thead th {\n",
       "        text-align: right;\n",
       "    }\n",
       "</style>\n",
       "<table border=\"1\" class=\"dataframe\">\n",
       "  <thead>\n",
       "    <tr style=\"text-align: right;\">\n",
       "      <th></th>\n",
       "      <th>ID</th>\n",
       "      <th>Name</th>\n",
       "      <th>Age</th>\n",
       "      <th>City</th>\n",
       "      <th>Salary</th>\n",
       "    </tr>\n",
       "  </thead>\n",
       "  <tbody>\n",
       "    <tr>\n",
       "      <th>0</th>\n",
       "      <td>50174</td>\n",
       "      <td>Moses Reese</td>\n",
       "      <td>34.000</td>\n",
       "      <td>84</td>\n",
       "      <td>25880.000</td>\n",
       "    </tr>\n",
       "    <tr>\n",
       "      <th>1</th>\n",
       "      <td>50141</td>\n",
       "      <td>Bobbie Caldwell</td>\n",
       "      <td>55.000</td>\n",
       "      <td>91</td>\n",
       "      <td>41688.000</td>\n",
       "    </tr>\n",
       "    <tr>\n",
       "      <th>2</th>\n",
       "      <td>50027</td>\n",
       "      <td>Eugene Wagner</td>\n",
       "      <td>35.000</td>\n",
       "      <td>97</td>\n",
       "      <td>22944.000</td>\n",
       "    </tr>\n",
       "    <tr>\n",
       "      <th>3</th>\n",
       "      <td>50264</td>\n",
       "      <td>Christopher Barker</td>\n",
       "      <td>41.000</td>\n",
       "      <td>84</td>\n",
       "      <td>21903.000</td>\n",
       "    </tr>\n",
       "    <tr>\n",
       "      <th>4</th>\n",
       "      <td>50054</td>\n",
       "      <td>Garry Barnes</td>\n",
       "      <td>76.875</td>\n",
       "      <td>100</td>\n",
       "      <td>57584.000</td>\n",
       "    </tr>\n",
       "    <tr>\n",
       "      <th>...</th>\n",
       "      <td>...</td>\n",
       "      <td>...</td>\n",
       "      <td>...</td>\n",
       "      <td>...</td>\n",
       "      <td>...</td>\n",
       "    </tr>\n",
       "    <tr>\n",
       "      <th>95</th>\n",
       "      <td>50300</td>\n",
       "      <td>Greg Pierce</td>\n",
       "      <td>46.000</td>\n",
       "      <td>96</td>\n",
       "      <td>103485.375</td>\n",
       "    </tr>\n",
       "    <tr>\n",
       "      <th>96</th>\n",
       "      <td>50108</td>\n",
       "      <td>Bernadette Murphy</td>\n",
       "      <td>15.875</td>\n",
       "      <td>97</td>\n",
       "      <td>42078.000</td>\n",
       "    </tr>\n",
       "    <tr>\n",
       "      <th>97</th>\n",
       "      <td>50114</td>\n",
       "      <td>Sergio Chandler</td>\n",
       "      <td>38.000</td>\n",
       "      <td>98</td>\n",
       "      <td>43949.000</td>\n",
       "    </tr>\n",
       "    <tr>\n",
       "      <th>98</th>\n",
       "      <td>50216</td>\n",
       "      <td>Brad Crawford</td>\n",
       "      <td>32.000</td>\n",
       "      <td>99</td>\n",
       "      <td>27995.000</td>\n",
       "    </tr>\n",
       "    <tr>\n",
       "      <th>99</th>\n",
       "      <td>50237</td>\n",
       "      <td>April Reed</td>\n",
       "      <td>40.000</td>\n",
       "      <td>100</td>\n",
       "      <td>49064.000</td>\n",
       "    </tr>\n",
       "  </tbody>\n",
       "</table>\n",
       "<p>100 rows × 5 columns</p>\n",
       "</div>"
      ],
      "text/plain": [
       "       ID                Name     Age  City      Salary\n",
       "0   50174         Moses Reese  34.000    84   25880.000\n",
       "1   50141     Bobbie Caldwell  55.000    91   41688.000\n",
       "2   50027       Eugene Wagner  35.000    97   22944.000\n",
       "3   50264  Christopher Barker  41.000    84   21903.000\n",
       "4   50054        Garry Barnes  76.875   100   57584.000\n",
       "..    ...                 ...     ...   ...         ...\n",
       "95  50300         Greg Pierce  46.000    96  103485.375\n",
       "96  50108   Bernadette Murphy  15.875    97   42078.000\n",
       "97  50114     Sergio Chandler  38.000    98   43949.000\n",
       "98  50216       Brad Crawford  32.000    99   27995.000\n",
       "99  50237          April Reed  40.000   100   49064.000\n",
       "\n",
       "[100 rows x 5 columns]"
      ]
     },
     "execution_count": 30,
     "metadata": {},
     "output_type": "execute_result"
    }
   ],
   "source": [
    "df_map"
   ]
  },
  {
   "cell_type": "code",
   "execution_count": 31,
   "id": "edsAk985BEAv",
   "metadata": {
    "colab": {
     "base_uri": "https://localhost:8080/",
     "height": 297
    },
    "id": "edsAk985BEAv",
    "outputId": "cb972f98-bf51-46cc-e8cf-9bd1615a4dca"
   },
   "outputs": [
    {
     "data": {
      "text/html": [
       "<div>\n",
       "<style scoped>\n",
       "    .dataframe tbody tr th:only-of-type {\n",
       "        vertical-align: middle;\n",
       "    }\n",
       "\n",
       "    .dataframe tbody tr th {\n",
       "        vertical-align: top;\n",
       "    }\n",
       "\n",
       "    .dataframe thead th {\n",
       "        text-align: right;\n",
       "    }\n",
       "</style>\n",
       "<table border=\"1\" class=\"dataframe\">\n",
       "  <thead>\n",
       "    <tr style=\"text-align: right;\">\n",
       "      <th></th>\n",
       "      <th>ID</th>\n",
       "      <th>Age</th>\n",
       "      <th>City</th>\n",
       "      <th>Salary</th>\n",
       "    </tr>\n",
       "  </thead>\n",
       "  <tbody>\n",
       "    <tr>\n",
       "      <th>count</th>\n",
       "      <td>100.000000</td>\n",
       "      <td>100.000000</td>\n",
       "      <td>100.000000</td>\n",
       "      <td>100.000000</td>\n",
       "    </tr>\n",
       "    <tr>\n",
       "      <th>mean</th>\n",
       "      <td>50172.500000</td>\n",
       "      <td>45.667066</td>\n",
       "      <td>91.530000</td>\n",
       "      <td>45758.825332</td>\n",
       "    </tr>\n",
       "    <tr>\n",
       "      <th>std</th>\n",
       "      <td>87.034476</td>\n",
       "      <td>10.458173</td>\n",
       "      <td>9.817995</td>\n",
       "      <td>18533.110715</td>\n",
       "    </tr>\n",
       "    <tr>\n",
       "      <th>min</th>\n",
       "      <td>50024.000000</td>\n",
       "      <td>15.875000</td>\n",
       "      <td>60.000000</td>\n",
       "      <td>3087.000000</td>\n",
       "    </tr>\n",
       "    <tr>\n",
       "      <th>25%</th>\n",
       "      <td>50098.250000</td>\n",
       "      <td>38.750000</td>\n",
       "      <td>87.750000</td>\n",
       "      <td>32127.250000</td>\n",
       "    </tr>\n",
       "    <tr>\n",
       "      <th>50%</th>\n",
       "      <td>50172.500000</td>\n",
       "      <td>46.000000</td>\n",
       "      <td>96.000000</td>\n",
       "      <td>43957.500000</td>\n",
       "    </tr>\n",
       "    <tr>\n",
       "      <th>75%</th>\n",
       "      <td>50246.750000</td>\n",
       "      <td>54.000000</td>\n",
       "      <td>98.000000</td>\n",
       "      <td>60670.500000</td>\n",
       "    </tr>\n",
       "    <tr>\n",
       "      <th>max</th>\n",
       "      <td>50321.000000</td>\n",
       "      <td>76.875000</td>\n",
       "      <td>100.000000</td>\n",
       "      <td>103485.375000</td>\n",
       "    </tr>\n",
       "  </tbody>\n",
       "</table>\n",
       "</div>"
      ],
      "text/plain": [
       "                 ID         Age        City         Salary\n",
       "count    100.000000  100.000000  100.000000     100.000000\n",
       "mean   50172.500000   45.667066   91.530000   45758.825332\n",
       "std       87.034476   10.458173    9.817995   18533.110715\n",
       "min    50024.000000   15.875000   60.000000    3087.000000\n",
       "25%    50098.250000   38.750000   87.750000   32127.250000\n",
       "50%    50172.500000   46.000000   96.000000   43957.500000\n",
       "75%    50246.750000   54.000000   98.000000   60670.500000\n",
       "max    50321.000000   76.875000  100.000000  103485.375000"
      ]
     },
     "execution_count": 31,
     "metadata": {},
     "output_type": "execute_result"
    }
   ],
   "source": [
    "df_map.describe()"
   ]
  },
  {
   "cell_type": "code",
   "execution_count": 42,
   "id": "yMw73nVTBZ55",
   "metadata": {
    "id": "yMw73nVTBZ55"
   },
   "outputs": [
    {
     "data": {
      "text/plain": [
       "<seaborn.axisgrid.PairGrid at 0x237ee512940>"
      ]
     },
     "execution_count": 42,
     "metadata": {},
     "output_type": "execute_result"
    },
    {
     "data": {
      "image/png": "[encoded data removed]",
      "text/plain": [
       "<Figure size 720x720 with 20 Axes>"
      ]
     },
     "metadata": {
      "needs_background": "light"
     },
     "output_type": "display_data"
    }
   ],
   "source": [
    "sns.pairplot(df_map)"
   ]
  },
  {
   "cell_type": "code",
   "execution_count": 34,
   "id": "acd77643",
   "metadata": {},
   "outputs": [
    {
     "data": {
      "text/plain": [
       "<AxesSubplot:xlabel='City', ylabel='Salary'>"
      ]
     },
     "execution_count": 34,
     "metadata": {},
     "output_type": "execute_result"
    },
    {
     "data": {
      "image/png": "[encoded data removed]",
      "text/plain": [
       "<Figure size 432x288 with 1 Axes>"
      ]
     },
     "metadata": {
      "needs_background": "light"
     },
     "output_type": "display_data"
    }
   ],
   "source": [
    "sns.boxplot(x='City', y='Salary', data=df_map, palette='Set1')"
   ]
  },
  {
   "cell_type": "markdown",
   "id": "34d48af4",
   "metadata": {},
   "source": [
    "Boxplot: บอกค่าทางสถิติการกระจายตัวรายได้ของคนที่ทำงานในแต่ละเมือง"
   ]
  },
  {
   "cell_type": "code",
   "execution_count": 57,
   "id": "86ea3f1e",
   "metadata": {},
   "outputs": [
    {
     "data": {
      "text/plain": [
       "<AxesSubplot:xlabel='City', ylabel='count'>"
      ]
     },
     "execution_count": 57,
     "metadata": {},
     "output_type": "execute_result"
    },
    {
     "data": {
      "image/png": "[encoded data removed]",
      "text/plain": [
       "<Figure size 432x288 with 1 Axes>"
      ]
     },
     "metadata": {
      "needs_background": "light"
     },
     "output_type": "display_data"
    }
   ],
   "source": [
    "sns.countplot(x='City', data = df_map)"
   ]
  },
  {
   "cell_type": "markdown",
   "id": "ff4ae945",
   "metadata": {},
   "source": [
    "เมืองไหนที่คนนิยมทำงานมากที่สุด\n",
    "\n",
    "Bar Chart: เมืองไหนที่คนนิยมทำงานมากที่สุด:84 (Wongar)"
   ]
  },
  {
   "cell_type": "code",
   "execution_count": 51,
   "id": "99ef22e8",
   "metadata": {},
   "outputs": [],
   "source": [
    "data = pd.DataFrame(df_map, columns=['Salary', 'City'])\n",
    "data_sorted = data.sort_values(by='Salary', ascending=False)"
   ]
  },
  {
   "cell_type": "code",
   "execution_count": 50,
   "id": "46981632",
   "metadata": {},
   "outputs": [
    {
     "data": {
      "text/plain": [
       "City\n",
       "83     103485.375\n",
       "96     103485.375\n",
       "99     103485.375\n",
       "84      69942.000\n",
       "97      68560.000\n",
       "91      67951.000\n",
       "100     66957.000\n",
       "92      65079.000\n",
       "60      63410.000\n",
       "98      61726.000\n",
       "Name: Salary, dtype: float64"
      ]
     },
     "execution_count": 50,
     "metadata": {},
     "output_type": "execute_result"
    }
   ],
   "source": [
    "# ranking = data_sorted\n",
    "ranking = data_sorted.groupby('City')['Salary'].max().sort_values().tail(10)\n",
    "top10 = ranking.sort_values(ascending=False)\n",
    "top10 "
   ]
  },
  {
   "cell_type": "code",
   "execution_count": 55,
   "id": "2017b558",
   "metadata": {},
   "outputs": [
    {
     "data": {
      "text/plain": [
       "<AxesSubplot:title={'center':'Top 10 City get Salary'}, xlabel='City'>"
      ]
     },
     "execution_count": 55,
     "metadata": {},
     "output_type": "execute_result"
    },
    {
     "data": {
      "image/png": "[encoded data removed]",
      "text/plain": [
       "<Figure size 432x288 with 1 Axes>"
      ]
     },
     "metadata": {
      "needs_background": "light"
     },
     "output_type": "display_data"
    }
   ],
   "source": [
    "top10.plot(kind='bar', title = 'Top 10 City get Salary')"
   ]
  },
  {
   "cell_type": "code",
   "execution_count": null,
   "id": "5d5a64aa",
   "metadata": {},
   "outputs": [],
   "source": []
  }
 ],
 "metadata": {
  "colab": {
   "name": "Data Preprocessing.ipynb",
   "provenance": []
  },
  "kernelspec": {
   "display_name": "Python 3 (ipykernel)",
   "language": "python",
   "name": "python3"
  },
  "language_info": {
   "codemirror_mode": {
    "name": "ipython",
    "version": 3
   },
   "file_extension": ".py",
   "mimetype": "text/x-python",
   "name": "python",
   "nbconvert_exporter": "python",
   "pygments_lexer": "ipython3",
   "version": "3.9.7"
  }
 },
 "nbformat": 4,
 "nbformat_minor": 5
}
