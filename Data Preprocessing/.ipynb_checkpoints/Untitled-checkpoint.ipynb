{
 "cells": [
  {
   "cell_type": "code",
   "execution_count": null,
   "id": "d4c02d88",
   "metadata": {},
   "outputs": [],
   "source": [
    "import pandas as pd\n",
    "import numpy as np\n",
    "import matplotlib.pyplot as plt\n",
    "import seaborn as sns\n",
    "from sklearn.metrics.pairwise import euclidean_distances"
   ]
  },
  {
   "cell_type": "code",
   "execution_count": null,
   "id": "2b1dcd49",
   "metadata": {},
   "outputs": [],
   "source": [
    "Boy = [[60,62000]]\n",
    "Bob = [[65,65000]]\n",
    "Cat = [[55,38000]]\n",
    "Lisa = [[54,55000]]\n",
    "Peter = [[63,40000]]"
   ]
  },
  {
   "cell_type": "code",
   "execution_count": null,
   "id": "26cf02ab",
   "metadata": {},
   "outputs": [],
   "source": [
    "BoyBob = euclidean_distances(Boy,Bob)\n",
    "BoyBob"
   ]
  },
  {
   "cell_type": "code",
   "execution_count": null,
   "id": "b643c10b",
   "metadata": {},
   "outputs": [],
   "source": [
    "BoyCat = euclidean_distances(Boy,Cat)\n",
    "BoyCat"
   ]
  },
  {
   "cell_type": "code",
   "execution_count": null,
   "id": "3f81235f",
   "metadata": {},
   "outputs": [],
   "source": [
    "BoyLisa = euclidean_distances(Boy,Lisa)\n",
    "BoyLisa "
   ]
  },
  {
   "cell_type": "code",
   "execution_count": null,
   "id": "76d58aa5",
   "metadata": {},
   "outputs": [],
   "source": [
    "BoyPeter = euclidean_distances(Boy,Peter)\n",
    "BoyPeter"
   ]
  },
  {
   "cell_type": "code",
   "execution_count": null,
   "id": "e51e0234",
   "metadata": {},
   "outputs": [],
   "source": [
    "BobCat = euclidean_distances(Boy,Cat)\n",
    "BobCat"
   ]
  },
  {
   "cell_type": "code",
   "execution_count": null,
   "id": "2e4ac0d5",
   "metadata": {},
   "outputs": [],
   "source": [
    "BobLisa = euclidean_distances(Bob,Lisa)\n",
    "BobLisa"
   ]
  },
  {
   "cell_type": "code",
   "execution_count": null,
   "id": "ca27a27d",
   "metadata": {},
   "outputs": [],
   "source": [
    "BobPeter = euclidean_distances(Bob,Peter)\n",
    "BobPeter"
   ]
  },
  {
   "cell_type": "code",
   "execution_count": null,
   "id": "e9d19b75",
   "metadata": {},
   "outputs": [],
   "source": [
    "CatLisa = euclidean_distances(Cat,Lisa)\n",
    "CatLisa"
   ]
  },
  {
   "cell_type": "code",
   "execution_count": null,
   "id": "aa04fc6f",
   "metadata": {},
   "outputs": [],
   "source": [
    "CatPeter = euclidean_distances(Cat,Peter)\n",
    "CatPeter "
   ]
  },
  {
   "cell_type": "code",
   "execution_count": null,
   "id": "2f1904da",
   "metadata": {},
   "outputs": [],
   "source": [
    "LisaPeter = euclidean_distances(Lisa,Peter)\n",
    "LisaPeter"
   ]
  },
  {
   "cell_type": "code",
   "execution_count": null,
   "id": "e65e54b8",
   "metadata": {},
   "outputs": [],
   "source": []
  }
 ],
 "metadata": {
  "kernelspec": {
   "display_name": "Python 3 (ipykernel)",
   "language": "python",
   "name": "python3"
  },
  "language_info": {
   "codemirror_mode": {
    "name": "ipython",
    "version": 3
   },
   "file_extension": ".py",
   "mimetype": "text/x-python",
   "name": "python",
   "nbconvert_exporter": "python",
   "pygments_lexer": "ipython3",
   "version": "3.9.7"
  }
 },
 "nbformat": 4,
 "nbformat_minor": 5
}
