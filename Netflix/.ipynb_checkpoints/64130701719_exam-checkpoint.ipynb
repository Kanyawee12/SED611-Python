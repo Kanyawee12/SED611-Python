{
 "cells": [
  {
   "cell_type": "markdown",
   "id": "9e1b5c25",
   "metadata": {},
   "source": [
    "# <span style=\"color: blue;\">SED610 Lab Exam Part 1</span>\n",
    "\n",
    "### <span style=\"color: blue;\">Test Date : 31 Oct 2021  Duration : 1 hour 30 mins </span>\n",
    "### <span style=\"color: blue;\">Questions : 15  </span>\n",
    "### <span style=\"color: blue;\">Scores : (35  points ( 2 or 3 points/question ) </span>\n",
    "### <span style=\"color: blue;\">In each question, please write your python code in the space provided.</span>"
   ]
  },
  {
   "cell_type": "markdown",
   "id": "6e03990b",
   "metadata": {},
   "source": [
    "<span style=\"color: blue;\">**Student ID :** (Type below)</span>"
   ]
  },
  {
   "cell_type": "code",
   "execution_count": null,
   "id": "39277a2c",
   "metadata": {},
   "outputs": [],
   "source": [
    "64130701719"
   ]
  },
  {
   "cell_type": "markdown",
   "id": "8d4885db",
   "metadata": {},
   "source": [
    "<span style=\"color: blue;\">**Student Name :** (Type below)</span>"
   ]
  },
  {
   "cell_type": "code",
   "execution_count": null,
   "id": "4348fc6f",
   "metadata": {},
   "outputs": [],
   "source": [
    "\"Kanyawee Sadubjit\""
   ]
  },
  {
   "cell_type": "markdown",
   "id": "d24eee0a",
   "metadata": {},
   "source": [
    "### <span style=\"color: blue;\">Q1. Import python packages here</span>"
   ]
  },
  {
   "cell_type": "code",
   "execution_count": 1,
   "id": "29c234fa",
   "metadata": {},
   "outputs": [],
   "source": [
    "import numpy as np\n",
    "import pandas as pd\n",
    "import matplotlib.pyplot as plt\n",
    "import seaborn as sns\n",
    "%matplotlib inline"
   ]
  },
  {
   "cell_type": "markdown",
   "id": "70fa595f",
   "metadata": {},
   "source": [
    "### <span style=\"color: blue;\">Q2. Read in the csv file **'netflix.csv'** as a data frame called netflix.</span>\n",
    "\n",
    "FEATURES:\n",
    "\n",
    "    SHOW-ID - Unique id of each show (not much of a use for us in this notebook)\n",
    "\n",
    "    TYPE - The category of a show, can be either a Movie or a TV Show\n",
    "\n",
    "    TITLE - Name of the show\n",
    "\n",
    "    DIRECTOR - Name of the director(s) of the show\n",
    "\n",
    "    CAST - Name of the show\n",
    "\n",
    "    COUNTRY - Name of countries the show is available to watch on Netflix\n",
    "\n",
    "    DATE ADDED - Date when the show was added on Netflix\n",
    "\n",
    "    RATING - Show rating on netflix\n",
    "\n",
    "    RELEASE YEAR - Release year of the show\n",
    "\n",
    "    DURATION - Time duration of the show\n",
    "\n",
    "    LISTED IN - Genre of the show "
   ]
  },
  {
   "cell_type": "code",
   "execution_count": 2,
   "id": "c6ec1fec",
   "metadata": {},
   "outputs": [],
   "source": [
    "netflix = pd.read_csv('netflix.csv')"
   ]
  },
  {
   "cell_type": "markdown",
   "id": "204dd716",
   "metadata": {},
   "source": [
    "### <span style=\"color: blue;\">Q3. View the data structure of the netflix</span>"
   ]
  },
  {
   "cell_type": "code",
   "execution_count": null,
   "id": "10c47408",
   "metadata": {},
   "outputs": [],
   "source": [
    "netflix.info"
   ]
  },
  {
   "cell_type": "markdown",
   "id": "e3cccc14",
   "metadata": {},
   "source": [
    "### <span style=\"color: blue;\">Q4. View the top 20 rows of data in the netflix</span>"
   ]
  },
  {
   "cell_type": "code",
   "execution_count": null,
   "id": "fe05c393",
   "metadata": {},
   "outputs": [],
   "source": []
  },
  {
   "cell_type": "markdown",
   "id": "44f62cb3",
   "metadata": {},
   "source": [
    "### <span style=\"color: blue;\">Q5. How many shows based on the type (Movie or TV Show)? </span>"
   ]
  },
  {
   "cell_type": "code",
   "execution_count": null,
   "id": "e0b7a9d0",
   "metadata": {},
   "outputs": [],
   "source": []
  },
  {
   "cell_type": "markdown",
   "id": "8644c453",
   "metadata": {},
   "source": [
    "### <span style=\"color: blue;\">Q6. What are the top 10 directors who have the number of shows is hightest?</span>"
   ]
  },
  {
   "cell_type": "code",
   "execution_count": null,
   "id": "0e647e50",
   "metadata": {},
   "outputs": [],
   "source": []
  },
  {
   "cell_type": "markdown",
   "id": "055730e7",
   "metadata": {},
   "source": [
    "### <span style=\"color: blue;\">Q7. List shows that have rating 'PG' or 'TV-Y7'?</span>"
   ]
  },
  {
   "cell_type": "code",
   "execution_count": null,
   "id": "e141198a",
   "metadata": {},
   "outputs": [],
   "source": []
  },
  {
   "cell_type": "markdown",
   "id": "a43aea83",
   "metadata": {},
   "source": [
    "### <span style=\"color: blue;\">Q8. How many TV Shows were release in 2020?</span>"
   ]
  },
  {
   "cell_type": "code",
   "execution_count": null,
   "id": "edb2d415",
   "metadata": {},
   "outputs": [],
   "source": []
  },
  {
   "cell_type": "markdown",
   "id": "76b39afc",
   "metadata": {},
   "source": [
    "### <span style=\"color: blue;\">Q9. What is the longest duration of Movies (mins)?</span>"
   ]
  },
  {
   "cell_type": "code",
   "execution_count": null,
   "id": "a0ed6940",
   "metadata": {},
   "outputs": [],
   "source": []
  },
  {
   "cell_type": "markdown",
   "id": "3b1a8772",
   "metadata": {},
   "source": [
    "### <span style=\"color: blue;\">Q10. What is the movie name of Q8.? (****Show only one name****)</span>"
   ]
  },
  {
   "cell_type": "code",
   "execution_count": null,
   "id": "e08b74cf",
   "metadata": {},
   "outputs": [],
   "source": []
  },
  {
   "cell_type": "markdown",
   "id": "e1d6b5a4",
   "metadata": {},
   "source": [
    "### <span style=\"color: blue;\">Q11. List shows that have genre 'TV Comedies'? **** Genre is listed in 'listed_in' column **** </span>"
   ]
  },
  {
   "cell_type": "code",
   "execution_count": null,
   "id": "af2c5e8a",
   "metadata": {},
   "outputs": [],
   "source": []
  },
  {
   "cell_type": "markdown",
   "id": "eb63fa8c",
   "metadata": {},
   "source": [
    "### <span style=\"color: blue;\">Q12. How many directors in the Netflix shows (only distinct value)?</span>"
   ]
  },
  {
   "cell_type": "code",
   "execution_count": null,
   "id": "a51a6b0b",
   "metadata": {},
   "outputs": [],
   "source": []
  },
  {
   "cell_type": "markdown",
   "id": "a400d1a9",
   "metadata": {},
   "source": [
    "### <span style=\"color: blue;\">Q13. Show the number of shows based on release year. Only shows released in 2010 or later.</span>"
   ]
  },
  {
   "cell_type": "code",
   "execution_count": null,
   "id": "fbe41a44",
   "metadata": {},
   "outputs": [],
   "source": []
  },
  {
   "cell_type": "markdown",
   "id": "74166f2a",
   "metadata": {},
   "source": [
    "### <span style=\"color: blue;\">Q14. Show the number of shows based on release year with the hue based off of show type. Only shows released in 2010 or later.</span>"
   ]
  },
  {
   "cell_type": "code",
   "execution_count": null,
   "id": "396b5881",
   "metadata": {},
   "outputs": [],
   "source": []
  },
  {
   "cell_type": "markdown",
   "id": "d613f913",
   "metadata": {},
   "source": [
    "### <span style=\"color: blue;\">Q15. Show the number of shows by rating that is available in Japan</span>"
   ]
  },
  {
   "cell_type": "code",
   "execution_count": null,
   "id": "fb212eef",
   "metadata": {},
   "outputs": [],
   "source": []
  }
 ],
 "metadata": {
  "kernelspec": {
   "display_name": "Python 3 (ipykernel)",
   "language": "python",
   "name": "python3"
  },
  "language_info": {
   "codemirror_mode": {
    "name": "ipython",
    "version": 3
   },
   "file_extension": ".py",
   "mimetype": "text/x-python",
   "name": "python",
   "nbconvert_exporter": "python",
   "pygments_lexer": "ipython3",
   "version": "3.9.7"
  }
 },
 "nbformat": 4,
 "nbformat_minor": 5
}
